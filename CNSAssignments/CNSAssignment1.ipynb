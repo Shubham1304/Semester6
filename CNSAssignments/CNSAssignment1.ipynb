{
 "cells": [
  {
   "cell_type": "code",
   "execution_count": 1,
   "metadata": {
    "scrolled": true
   },
   "outputs": [
    {
     "name": "stdout",
     "output_type": "stream",
     "text": [
      "India is a land of ancient civilization. India's social, economic, and cultural configurations are the products of a long process of regional expansion. Indian history begins with the birth of the Indus Valley Civilization and the coming of the Aryans. These two phases are usually described as the pre-Vedic and Vedic age. Hinduism arose in the Vedic period. The fifth century saw the unification of India under Ashoka, who had converted to Buddhism, and it is in his reign that Buddhism spread in many parts of Asia. In the eighth century Islam came to India for the first time and by the eleventh century had firmly established itself in India as a political force. It resulted into the formation of the Delhi Sultanate, which was finally succeeded by the Mughal Empire, under which India once again achieved a large measure of political unity. It was in the 17th century that the Europeans came to India. This coincided with the disintegration of the Mughal Empire, paving the way for regional states. In the contest for supremacy, the English emerged 'victors'. The Rebellion of 1857-58, which sought to restore Indian supremacy, was crushed; and with the subsequent crowning of Victoria as Empress of India, the incorporation of India into the empire was complete. It was followed by India's struggle for independence, which we got in the year 1947.India Timeline Indian timeline takes us on a journey of the history of the subcontinent. Right from the ancient India, which included Bangladesh and Pakistan, to the free and divided India, this time line covers each and every aspect related to the past as well as present of the country. Read on further to explore the timeline of India. Economic History of India Indus valley civilization, which flourished between 2800 BC and 1800 BC, had an advanced and flourishing economic system. The Indus valley people practiced agriculture, domesticated animals, made tools and weapons from copper, bronze and tin and even traded with some Middle East countries. A cryptocurrency is a digital or virtual currency designed to work as a medium of exchange. It uses cryptography to secure and verify transactions as well as to control the creation of new units of a particular cryptocurrency. Essentially, cryptocurrencies are limited entries in a database that no one can change unless specific conditions are fulfilled. There have been many attempts at creating a digital currency during the 90s tech boom, with systems like Flooz, Beenz and DigiCash emerging on the market but inevitably failing. There were many different reasons for their failures, such as fraud, financial problems and even frictions between companies’ employees and their bosses.Notably, all of those systems utilized a Trusted Third Party approach, meaning that the companies behind them verified and facilitated the transactions. Due to the failures of these companies, the creation of a digital cash system was seen as a lost cause for a long while.\n"
     ]
    }
   ],
   "source": [
    "s = \"India is a land of ancient civilization. India's social, economic, and cultural configurations are the products of a long process of regional expansion. Indian history begins with the birth of the Indus Valley Civilization and the coming of the Aryans. These two phases are usually described as the pre-Vedic and Vedic age. Hinduism arose in the Vedic period. The fifth century saw the unification of India under Ashoka, who had converted to Buddhism, and it is in his reign that Buddhism spread in many parts of Asia. In the eighth century Islam came to India for the first time and by the eleventh century had firmly established itself in India as a political force. It resulted into the formation of the Delhi Sultanate, which was finally succeeded by the Mughal Empire, under which India once again achieved a large measure of political unity. It was in the 17th century that the Europeans came to India. This coincided with the disintegration of the Mughal Empire, paving the way for regional states. In the contest for supremacy, the English emerged 'victors'. The Rebellion of 1857-58, which sought to restore Indian supremacy, was crushed; and with the subsequent crowning of Victoria as Empress of India, the incorporation of India into the empire was complete. It was followed by India's struggle for independence, which we got in the year 1947.India Timeline Indian timeline takes us on a journey of the history of the subcontinent. Right from the ancient India, which included Bangladesh and Pakistan, to the free and divided India, this time line covers each and every aspect related to the past as well as present of the country. Read on further to explore the timeline of India. Economic History of India Indus valley civilization, which flourished between 2800 BC and 1800 BC, had an advanced and flourishing economic system. The Indus valley people practiced agriculture, domesticated animals, made tools and weapons from copper, bronze and tin and even traded with some Middle East countries. A cryptocurrency is a digital or virtual currency designed to work as a medium of exchange. It uses cryptography to secure and verify transactions as well as to control the creation of new units of a particular cryptocurrency. Essentially, cryptocurrencies are limited entries in a database that no one can change unless specific conditions are fulfilled. There have been many attempts at creating a digital currency during the 90s tech boom, with systems like Flooz, Beenz and DigiCash emerging on the market but inevitably failing. There were many different reasons for their failures, such as fraud, financial problems and even frictions between companies’ employees and their bosses.Notably, all of those systems utilized a Trusted Third Party approach, meaning that the companies behind them verified and facilitated the transactions. Due to the failures of these companies, the creation of a digital cash system was seen as a lost cause for a long while.\"\n",
    "print (s)"
   ]
  },
  {
   "cell_type": "code",
   "execution_count": 2,
   "metadata": {
    "scrolled": true
   },
   "outputs": [
    {
     "name": "stdout",
     "output_type": "stream",
     "text": [
      "lqgld lv d odqg ri dqflhqw flylolcdwlrq. lqgld'v vrfldo, hfrqrplf, dqg fxowxudo frqiljxudwlrqv duh wkh surgxfwv ri d orqj surfhvv ri uhjlrqdo hasdqvlrq. lqgldq klvwrub ehjlqv zlwk wkh eluwk ri wkh lqgxv ydoohb flylolcdwlrq dqg wkh frplqj ri wkh dubdqv. wkhvh wzr skdvhv duh xvxdoob ghvfulehg dv wkh suh-yhglf dqg yhglf djh. klqgxlvp durvh lq wkh yhglf shulrg. wkh iliwk fhqwxub vdz wkh xqlilfdwlrq ri lqgld xqghu dvkrnd, zkr kdg frqyhuwhg wr exggklvp, dqg lw lv lq klv uhljq wkdw exggklvp vsuhdg lq pdqb sduwv ri dvld. lq wkh hljkwk fhqwxub lvodp fdph wr lqgld iru wkh iluvw wlph dqg eb wkh hohyhqwk fhqwxub kdg ilupob hvwdeolvkhg lwvhoi lq lqgld dv d srolwlfdo irufh. lw uhvxowhg lqwr wkh irupdwlrq ri wkh ghokl vxowdqdwh, zklfk zdv ilqdoob vxffhhghg eb wkh pxjkdo hpsluh, xqghu zklfk lqgld rqfh djdlq dfklhyhg d odujh phdvxuh ri srolwlfdo xqlwb. lw zdv lq wkh 17wk fhqwxub wkdw wkh hxurshdqv fdph wr lqgld. wklv frlqflghg zlwk wkh glvlqwhjudwlrq ri wkh pxjkdo hpsluh, sdylqj wkh zdb iru uhjlrqdo vwdwhv. lq wkh frqwhvw iru vxsuhpdfb, wkh hqjolvk hphujhg 'ylfwruv'. wkh uhehoolrq ri 1857-58, zklfk vrxjkw wr uhvwruh lqgldq vxsuhpdfb, zdv fuxvkhg; dqg zlwk wkh vxevhtxhqw furzqlqj ri ylfwruld dv hpsuhvv ri lqgld, wkh lqfrusrudwlrq ri lqgld lqwr wkh hpsluh zdv frpsohwh. lw zdv iroorzhg eb lqgld'v vwuxjjoh iru lqghshqghqfh, zklfk zh jrw lq wkh bhdu 1947.lqgld wlpholqh lqgldq wlpholqh wdnhv xv rq d mrxuqhb ri wkh klvwrub ri wkh vxefrqwlqhqw. uljkw iurp wkh dqflhqw lqgld, zklfk lqfoxghg edqjodghvk dqg sdnlvwdq, wr wkh iuhh dqg glylghg lqgld, wklv wlph olqh fryhuv hdfk dqg hyhub dvshfw uhodwhg wr wkh sdvw dv zhoo dv suhvhqw ri wkh frxqwub. uhdg rq ixuwkhu wr hasoruh wkh wlpholqh ri lqgld. hfrqrplf klvwrub ri lqgld lqgxv ydoohb flylolcdwlrq, zklfk iorxulvkhg ehwzhhq 2800 ef dqg 1800 ef, kdg dq dgydqfhg dqg iorxulvklqj hfrqrplf vbvwhp. wkh lqgxv ydoohb shrsoh sudfwlfhg djulfxowxuh, grphvwlfdwhg dqlpdov, pdgh wrrov dqg zhdsrqv iurp frsshu, eurqch dqg wlq dqg hyhq wudghg zlwk vrph plggoh hdvw frxqwulhv. d fubswrfxuuhqfb lv d gljlwdo ru yluwxdo fxuuhqfb ghvljqhg wr zrun dv d phglxp ri hafkdqjh. lw xvhv fubswrjudskb wr vhfxuh dqg yhulib wudqvdfwlrqv dv zhoo dv wr frqwuro wkh fuhdwlrq ri qhz xqlwv ri d sduwlfxodu fubswrfxuuhqfb. hvvhqwldoob, fubswrfxuuhqflhv duh olplwhg hqwulhv lq d gdwdedvh wkdw qr rqh fdq fkdqjh xqohvv vshflilf frqglwlrqv duh ixoiloohg. wkhuh kdyh ehhq pdqb dwwhpswv dw fuhdwlqj d gljlwdo fxuuhqfb gxulqj wkh 90v whfk errp, zlwk vbvwhpv olnh iorrc, ehhqc dqg gljlfdvk hphujlqj rq wkh pdunhw exw lqhylwdeob idlolqj. wkhuh zhuh pdqb gliihuhqw uhdvrqv iru wkhlu idloxuhv, vxfk dv iudxg, ilqdqfldo sureohpv dqg hyhq iulfwlrqv ehwzhhq frpsdqlhv’ hpsorbhhv dqg wkhlu ervvhv.qrwdeob, doo ri wkrvh vbvwhpv xwlolchg d wuxvwhg wklug sduwb dssurdfk, phdqlqj wkdw wkh frpsdqlhv ehklqg wkhp yhulilhg dqg idflolwdwhg wkh wudqvdfwlrqv. gxh wr wkh idloxuhv ri wkhvh frpsdqlhv, wkh fuhdwlrq ri d gljlwdo fdvk vbvwhp zdv vhhq dv d orvw fdxvh iru d orqj zkloh.\n",
      "{'l': 9.68, 'q': 7.73, 'g': 4.74, 'd': 8.6, 'v': 6.15, 'o': 3.78, 'r': 6.23, 'i': 2.62, 'f': 4.53, 'h': 11.76, 'w': 8.52, 'y': 1.08, 'c': 0.29, 'p': 2.33, 'x': 2.83, 'u': 5.57, 'j': 1.7, 'k': 4.9, 's': 2.0, 'a': 0.12, 'b': 1.95, 'e': 1.16, 'z': 1.37, 'n': 0.25, 't': 0.04, 'm': 0.04}\n",
      "<class 'list'> <class 'dict'>\n",
      " \n",
      "[('h', 11.76), ('l', 9.68), ('d', 8.6), ('w', 8.52), ('q', 7.73), ('r', 6.23), ('v', 6.15), ('u', 5.57), ('k', 4.9), ('g', 4.74), ('f', 4.53), ('o', 3.78), ('x', 2.83), ('i', 2.62), ('p', 2.33), ('s', 2.0), ('b', 1.95), ('j', 1.7), ('z', 1.37), ('e', 1.16), ('y', 1.08), ('c', 0.29), ('n', 0.25), ('a', 0.12), ('t', 0.04), ('m', 0.04)]\n",
      "h\n",
      "l\n",
      "d\n",
      "w\n",
      "q\n",
      "r\n",
      "v\n",
      "u\n",
      "k\n",
      "g\n",
      "f\n",
      "o\n",
      "x\n",
      "i\n",
      "p\n",
      "s\n",
      "b\n",
      "j\n",
      "z\n",
      "e\n",
      "y\n",
      "c\n",
      "n\n",
      "a\n",
      "t\n",
      "m\n",
      "hldwqrvukgfoxipsbjzeycnatm\n",
      "['h', 'l', 'd', 'w', 'q', 'r', 'v', 'u', 'k', 'g', 'f', 'o', 'x', 'i', 'p', 's', 'b', 'j', 'z', 'e', 'y', 'c', 'n', 'a', 't', 'm']\n"
     ]
    },
    {
     "data": {
      "text/plain": [
       "<Figure size 640x480 with 1 Axes>"
      ]
     },
     "metadata": {},
     "output_type": "display_data"
    }
   ],
   "source": [
    "import operator\n",
    "encrypttext = \"\"\n",
    "size = len(s)-1\n",
    "for i in range(len(s)):\n",
    "    s = s.lower()\n",
    "    if ((s[i].isalpha())):\n",
    "        text =((ord(s[i])+3) - 97 ) % 26\n",
    "        text +=97\n",
    "        encrypttext+=chr(text)\n",
    "\n",
    "    else:\n",
    "        encrypttext += s[i]\n",
    "print (encrypttext)\n",
    "\n",
    "res = {} \n",
    "\n",
    "for keys in encrypttext:\n",
    "    if (keys.isalpha()):\n",
    "        res[keys] = res.get(keys, 0) + 1\n",
    "\n",
    "total=0\n",
    "for i in range (97,123):\n",
    "    if (res[chr(i)]):\n",
    "        total = total + res[chr(i)]\n",
    "    else :\n",
    "        res[chr[i]]=0\n",
    "\n",
    "\n",
    "\n",
    "for i in range (97,123):\n",
    "    res[chr(i)] = round(((res[chr(i)]/total)*100),2)\n",
    "print (res)\n",
    "\n",
    "sorted_res = sorted((res.items()) , key=operator.itemgetter(1),reverse=True)\n",
    "# printing result  \n",
    "print(type(sorted_res),type(res))\n",
    "\n",
    "print (\" \\n\" +  str(sorted_res)) \n",
    "for i in range(0,26):\n",
    "    print (sorted_res[i][0])\n",
    "\n",
    "x_months = \"\"\n",
    "\n",
    "\n",
    "import matplotlib.pyplot as plt\n",
    "\n",
    "x, y = zip(*sorted_res) # unpack a list of pairs into two tuples\n",
    "for i in range (len(sorted_res)):\n",
    "    x_months += sorted_res[i][0]\n",
    "print (x_months)\n",
    "x_months=list(x_months)\n",
    "print(x_months)\n",
    "#_months=['a', 'b', 'c','d','e','f','g','h','i','j','k','l','m','n','o','p','q','r','s','t','u','v','w','x','y','z']\n",
    "\n",
    "plt.bar(x_months, y, color='b')\n",
    "plt.xticks(x_months, x_months, rotation='vertical')\n",
    "plt.tight_layout()\n",
    "plt.show()\n"
   ]
  },
  {
   "cell_type": "code",
   "execution_count": 3,
   "metadata": {},
   "outputs": [
    {
     "name": "stdout",
     "output_type": "stream",
     "text": [
      "e\n",
      "t\n",
      "a\n",
      "o\n",
      "i\n",
      "n\n",
      "s\n",
      "r\n",
      "h\n",
      "d\n",
      "l\n",
      "u\n",
      "c\n",
      "m\n",
      "f\n",
      "y\n",
      "w\n",
      "g\n",
      "p\n",
      "b\n",
      "v\n",
      "k\n",
      "x\n",
      "q\n",
      "j\n"
     ]
    }
   ],
   "source": [
    "freq = [('e',12.02),('t',9.10),('a',8.12),('o',7.68),('i',7.31),('n',6.95),('s',6.28),('r',6.02),('h',5.92),('d',4.32),('l',3.98),('u',2.88),('c',2.71),('m',2.61),('f',2.30),('y',2.11),('w',2.09),('g',2.03),('p',1.82),('b',1.49),('v',1.11),('k',0.69),('x',0.17),('q',0.11),('j',0.10),('z',0.07)]\n",
    "for i in range (0,len(freq)-1):\n",
    "    print (freq[i][0])\n"
   ]
  },
  {
   "cell_type": "code",
   "execution_count": null,
   "metadata": {},
   "outputs": [],
   "source": []
  },
  {
   "cell_type": "code",
   "execution_count": 4,
   "metadata": {},
   "outputs": [
    {
     "name": "stdout",
     "output_type": "stream",
     "text": [
      "tidta ts a uaid nm ailteio ltvtutkaotni. tidta's snltau, elninftl, aid lcuocrau lnimtgcraotnis are ohe yrndclos nm a unig yrnless nm regtniau eqyaistni. tidtai htsonrw begtis ptoh ohe btroh nm ohe tidcs vauuew ltvtutkaotni aid ohe lnftig nm ohe arwais. ohese opn yhases are cscauuw deslrtbed as ohe yre-vedtl aid vedtl age. htidctsf arnse ti ohe vedtl yertnd. ohe mtmoh leiocrw sap ohe citmtlaotni nm tidta cider ashnxa, phn had lniveroed on bcddhtsf, aid to ts ti hts retgi ohao bcddhtsf syread ti faiw yaros nm asta. ti ohe etghoh leiocrw tsuaf lafe on tidta mnr ohe mtrso otfe aid bw ohe eueveioh leiocrw had mtrfuw esoabutshed toseum ti tidta as a ynutotlau mnrle. to rescuoed tion ohe mnrfaotni nm ohe deuht scuoaiaoe, phtlh pas mtiauuw sclleeded bw ohe fcghau efytre, cider phtlh tidta nile agati alhteved a uarge feascre nm ynutotlau citow. to pas ti ohe 17oh leiocrw ohao ohe ecrnyeais lafe on tidta. ohts lntiltded ptoh ohe dtstioegraotni nm ohe fcghau efytre, yavtig ohe paw mnr regtniau soaoes. ti ohe lnioeso mnr scyrefalw, ohe eigutsh eferged 'vtlonrs'. ohe rebeuutni nm 1857-58, phtlh sncgho on resonre tidtai scyrefalw, pas lrcshed; aid ptoh ohe scbsejceio lrnpitig nm vtlonrta as efyress nm tidta, ohe tilnrynraotni nm tidta tion ohe efytre pas lnfyueoe. to pas mnuunped bw tidta's sorcggue mnr tideyeideile, phtlh pe gno ti ohe wear 1947.tidta otfeutie tidtai otfeutie oaxes cs ni a jncriew nm ohe htsonrw nm ohe scblniotieio. rtgho mrnf ohe ailteio tidta, phtlh tilucded baiguadesh aid yaxtsoai, on ohe mree aid dtvtded tidta, ohts otfe utie lnvers ealh aid everw asyelo reuaoed on ohe yaso as peuu as yreseio nm ohe lnciorw. read ni mcroher on eqyunre ohe otfeutie nm tidta. elninftl htsonrw nm tidta tidcs vauuew ltvtutkaotni, phtlh muncrtshed beopeei 2800 bl aid 1800 bl, had ai advailed aid muncrtshtig elninftl swsoef. ohe tidcs vauuew yenyue yralotled agrtlcuocre, dnfesotlaoed aitfaus, fade onnus aid peaynis mrnf lnyyer, brnike aid oti aid evei oraded ptoh snfe ftddue easo lnciortes. a lrwyonlcrreilw ts a dtgtoau nr vtrocau lcrreilw destgied on pnrx as a fedtcf nm eqlhaige. to cses lrwyongrayhw on selcre aid vertmw oraisalotnis as peuu as on lniornu ohe lreaotni nm iep citos nm a yarotlcuar lrwyonlcrreilw. esseiotauuw, lrwyonlcrreiltes are utftoed eiortes ti a daoabase ohao in nie lai lhaige ciuess syeltmtl lnidtotnis are mcumtuued. ohere have beei faiw aooefyos ao lreaotig a dtgtoau lcrreilw dcrtig ohe 90s oelh bnnf, ptoh swsoefs utxe munnk, beeik aid dtgtlash efergtig ni ohe farxeo bco tievtoabuw matutig. ohere pere faiw dtmmereio reasnis mnr ohetr matucres, sclh as mracd, mtiailtau yrnbuefs aid evei mrtlotnis beopeei lnfyaites’ efyunwees aid ohetr bnsses.inoabuw, auu nm ohnse swsoefs cotutked a orcsoed ohtrd yarow ayyrnalh, feaitig ohao ohe lnfyaites behtid ohef vertmted aid maltutoaoed ohe oraisalotnis. dce on ohe matucres nm ohese lnfyaites, ohe lreaotni nm a dtgtoau lash swsoef pas seei as a unso lacse mnr a unig phtue.\n"
     ]
    }
   ],
   "source": [
    "j=0\n",
    "final_s = encrypttext\n",
    "final_s =list(s)\n",
    "while (j<len(sorted_res)-1):\n",
    "    for i in range (len(encrypttext)-1):\n",
    "        if (sorted_res[j][0]==encrypttext[i]):\n",
    "            final_s[i]=freq[j][0]\n",
    "        else:\n",
    "            continue\n",
    "    j += 1\n",
    "ss=\"\"\n",
    "for i in range (len(final_s)):\n",
    "    ss +=final_s[i]\n",
    "    \n",
    "print (ss)\n"
   ]
  },
  {
   "cell_type": "code",
   "execution_count": null,
   "metadata": {},
   "outputs": [],
   "source": []
  },
  {
   "cell_type": "code",
   "execution_count": null,
   "metadata": {},
   "outputs": [],
   "source": []
  },
  {
   "cell_type": "code",
   "execution_count": null,
   "metadata": {},
   "outputs": [],
   "source": []
  }
 ],
 "metadata": {
  "kernelspec": {
   "display_name": "Python 3",
   "language": "python",
   "name": "python3"
  },
  "language_info": {
   "codemirror_mode": {
    "name": "ipython",
    "version": 3
   },
   "file_extension": ".py",
   "mimetype": "text/x-python",
   "name": "python",
   "nbconvert_exporter": "python",
   "pygments_lexer": "ipython3",
   "version": "3.6.6"
  }
 },
 "nbformat": 4,
 "nbformat_minor": 2
}
