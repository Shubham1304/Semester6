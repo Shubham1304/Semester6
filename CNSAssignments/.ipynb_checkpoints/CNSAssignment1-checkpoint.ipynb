{
 "cells": [
  {
   "cell_type": "code",
   "execution_count": 1,
   "metadata": {},
   "outputs": [
    {
     "name": "stdout",
     "output_type": "stream",
     "text": [
      "India is a land of ancient civilization. India's social, economic, and cultural configurations are the products of a long process of regional expansion. Indian history begins with the birth of the Indus Valley Civilization and the coming of the Aryans. These two phases are usually described as the pre-Vedic and Vedic age. Hinduism arose in the Vedic period. The fifth century saw the unification of India under Ashoka, who had converted to Buddhism, and it is in his reign that Buddhism spread in many parts of Asia. In the eighth century Islam came to India for the first time and by the eleventh century had firmly established itself in India as a political force. It resulted into the formation of the Delhi Sultanate, which was finally succeeded by the Mughal Empire, under which India once again achieved a large measure of political unity. It was in the 17th century that the Europeans came to India. This coincided with the disintegration of the Mughal Empire, paving the way for regional states. In the contest for supremacy, the English emerged 'victors'. The Rebellion of 1857-58, which sought to restore Indian supremacy, was crushed; and with the subsequent crowning of Victoria as Empress of India, the incorporation of India into the empire was complete. It was followed by India's struggle for independence, which we got in the year 1947.India Timeline Indian timeline takes us on a journey of the history of the subcontinent. Right from the ancient India, which included Bangladesh and Pakistan, to the free and divided India, this time line covers each and every aspect related to the past as well as present of the country. Read on further to explore the timeline of India. Economic History of India Indus valley civilization, which flourished between 2800 BC and 1800 BC, had an advanced and flourishing economic system. The Indus valley people practiced agriculture, domesticated animals, made tools and weapons from copper, bronze and tin and even traded with some Middle East countries.\n"
     ]
    }
   ],
   "source": [
    "s = \"India is a land of ancient civilization. India's social, economic, and cultural configurations are the products of a long process of regional expansion. Indian history begins with the birth of the Indus Valley Civilization and the coming of the Aryans. These two phases are usually described as the pre-Vedic and Vedic age. Hinduism arose in the Vedic period. The fifth century saw the unification of India under Ashoka, who had converted to Buddhism, and it is in his reign that Buddhism spread in many parts of Asia. In the eighth century Islam came to India for the first time and by the eleventh century had firmly established itself in India as a political force. It resulted into the formation of the Delhi Sultanate, which was finally succeeded by the Mughal Empire, under which India once again achieved a large measure of political unity. It was in the 17th century that the Europeans came to India. This coincided with the disintegration of the Mughal Empire, paving the way for regional states. In the contest for supremacy, the English emerged 'victors'. The Rebellion of 1857-58, which sought to restore Indian supremacy, was crushed; and with the subsequent crowning of Victoria as Empress of India, the incorporation of India into the empire was complete. It was followed by India's struggle for independence, which we got in the year 1947.India Timeline Indian timeline takes us on a journey of the history of the subcontinent. Right from the ancient India, which included Bangladesh and Pakistan, to the free and divided India, this time line covers each and every aspect related to the past as well as present of the country. Read on further to explore the timeline of India. Economic History of India Indus valley civilization, which flourished between 2800 BC and 1800 BC, had an advanced and flourishing economic system. The Indus valley people practiced agriculture, domesticated animals, made tools and weapons from copper, bronze and tin and even traded with some Middle East countries.\"\n",
    "print (s)"
   ]
  },
  {
   "cell_type": "code",
   "execution_count": 2,
   "metadata": {
    "scrolled": true
   },
   "outputs": [
    {
     "name": "stdout",
     "output_type": "stream",
     "text": [
      "lqgld lv d odqg ri dqflhqw flylolcdwlrq. lqgld'v vrfldo, hfrqrplf, dqg fxowxudo frqiljxudwlrqv duh wkh surgxfwv ri d orqj surfhvv ri uhjlrqdo hasdqvlrq. lqgldq klvwrub ehjlqv zlwk wkh eluwk ri wkh lqgxv ydoohb flylolcdwlrq dqg wkh frplqj ri wkh dubdqv. wkhvh wzr skdvhv duh xvxdoob ghvfulehg dv wkh suh-yhglf dqg yhglf djh. klqgxlvp durvh lq wkh yhglf shulrg. wkh iliwk fhqwxub vdz wkh xqlilfdwlrq ri lqgld xqghu dvkrnd, zkr kdg frqyhuwhg wr exggklvp, dqg lw lv lq klv uhljq wkdw exggklvp vsuhdg lq pdqb sduwv ri dvld. lq wkh hljkwk fhqwxub lvodp fdph wr lqgld iru wkh iluvw wlph dqg eb wkh hohyhqwk fhqwxub kdg ilupob hvwdeolvkhg lwvhoi lq lqgld dv d srolwlfdo irufh. lw uhvxowhg lqwr wkh irupdwlrq ri wkh ghokl vxowdqdwh, zklfk zdv ilqdoob vxffhhghg eb wkh pxjkdo hpsluh, xqghu zklfk lqgld rqfh djdlq dfklhyhg d odujh phdvxuh ri srolwlfdo xqlwb. lw zdv lq wkh 17wk fhqwxub wkdw wkh hxurshdqv fdph wr lqgld. wklv frlqflghg zlwk wkh glvlqwhjudwlrq ri wkh pxjkdo hpsluh, sdylqj wkh zdb iru uhjlrqdo vwdwhv. lq wkh frqwhvw iru vxsuhpdfb, wkh hqjolvk hphujhg 'ylfwruv'. wkh uhehoolrq ri 1857-58, zklfk vrxjkw wr uhvwruh lqgldq vxsuhpdfb, zdv fuxvkhg; dqg zlwk wkh vxevhtxhqw furzqlqj ri ylfwruld dv hpsuhvv ri lqgld, wkh lqfrusrudwlrq ri lqgld lqwr wkh hpsluh zdv frpsohwh. lw zdv iroorzhg eb lqgld'v vwuxjjoh iru lqghshqghqfh, zklfk zh jrw lq wkh bhdu 1947.lqgld wlpholqh lqgldq wlpholqh wdnhv xv rq d mrxuqhb ri wkh klvwrub ri wkh vxefrqwlqhqw. uljkw iurp wkh dqflhqw lqgld, zklfk lqfoxghg edqjodghvk dqg sdnlvwdq, wr wkh iuhh dqg glylghg lqgld, wklv wlph olqh fryhuv hdfk dqg hyhub dvshfw uhodwhg wr wkh sdvw dv zhoo dv suhvhqw ri wkh frxqwub. uhdg rq ixuwkhu wr hasoruh wkh wlpholqh ri lqgld. hfrqrplf klvwrub ri lqgld lqgxv ydoohb flylolcdwlrq, zklfk iorxulvkhg ehwzhhq 2800 ef dqg 1800 ef, kdg dq dgydqfhg dqg iorxulvklqj hfrqrplf vbvwhp. wkh lqgxv ydoohb shrsoh sudfwlfhg djulfxowxuh, grphvwlfdwhg dqlpdov, pdgh wrrov dqg zhdsrqv iurp frsshu, eurqch dqg wlq dqg hyhq wudghg zlwk vrph plggoh hdvw frxqwulhv.\n",
      "{'l': 10.59, 'q': 7.99, 'g': 5.45, 'd': 8.24, 'v': 5.63, 'o': 3.65, 'r': 6.44, 'i': 2.48, 'f': 4.27, 'h': 11.52, 'w': 8.36, 'y': 1.24, 'c': 0.25, 'p': 2.29, 'x': 2.79, 'u': 5.02, 'j': 1.61, 'k': 5.51, 's': 1.98, 'a': 0.12, 'b': 1.67, 'e': 1.05, 'z': 1.55, 'n': 0.19, 't': 0.06, 'm': 0.06}\n",
      " \n",
      "[('h', 11.52), ('l', 10.59), ('w', 8.36), ('d', 8.24), ('q', 7.99), ('r', 6.44), ('v', 5.63), ('k', 5.51), ('g', 5.45), ('u', 5.02), ('f', 4.27), ('o', 3.65), ('x', 2.79), ('i', 2.48), ('p', 2.29), ('s', 1.98), ('b', 1.67), ('j', 1.61), ('z', 1.55), ('y', 1.24), ('e', 1.05), ('c', 0.25), ('n', 0.19), ('a', 0.12), ('t', 0.06), ('m', 0.06)]\n",
      "h\n",
      "l\n",
      "w\n",
      "d\n",
      "q\n",
      "r\n",
      "v\n",
      "k\n",
      "g\n",
      "u\n",
      "f\n",
      "o\n",
      "x\n",
      "i\n",
      "p\n",
      "s\n",
      "b\n",
      "j\n",
      "z\n",
      "y\n",
      "e\n",
      "c\n",
      "n\n",
      "a\n",
      "t\n",
      "m\n"
     ]
    },
    {
     "data": {
      "text/plain": [
       "<Figure size 640x480 with 1 Axes>"
      ]
     },
     "metadata": {},
     "output_type": "display_data"
    }
   ],
   "source": [
    "import operator\n",
    "encrypttext = \"\"\n",
    "size = len(s)-1\n",
    "for i in range(len(s)):\n",
    "    s = s.lower()\n",
    "    if ((s[i].isalpha())):\n",
    "        text =((ord(s[i])+3) - 97 ) % 26\n",
    "        text +=97\n",
    "        encrypttext+=chr(text)\n",
    "\n",
    "    else:\n",
    "        encrypttext += s[i]\n",
    "print (encrypttext)\n",
    "\n",
    "res = {} \n",
    "\n",
    "for keys in encrypttext:\n",
    "    if (keys.isalpha()):\n",
    "        res[keys] = res.get(keys, 0) + 1\n",
    "\n",
    "total=0\n",
    "for i in range (97,123):\n",
    "    if (res[chr(i)]):\n",
    "        total = total + res[chr(i)]\n",
    "    else :\n",
    "        res[chr[i]]=0\n",
    "\n",
    "\n",
    "\n",
    "for i in range (97,123):\n",
    "    res[chr(i)] = round(((res[chr(i)]/total)*100),2)\n",
    "print (res)\n",
    "\n",
    "sorted_res = sorted((res.items()) , key=operator.itemgetter(1),reverse=True)\n",
    "# printing result  \n",
    "print (\" \\n\" +  str(sorted_res)) \n",
    "for i in range(0,26):\n",
    "    print (sorted_res[i][0])\n",
    "\n",
    "    \n",
    "import matplotlib.pyplot as plt\n",
    "from math import log\n",
    "\n",
    "\n",
    "x, y = zip(*sorted_res) # unpack a list of pairs into two tuples\n",
    "x_months=['a', 'b', 'c','d','e','f','g','h','i','j','k','l','m','n','o','p','q','r','s','t','u','v','w','x','y','z']\n",
    "\n",
    "plt.bar(x_months, y, color='b')\n",
    "plt.xticks(x_months, x_months, rotation='vertical')\n",
    "plt.tight_layout()\n",
    "plt.show()\n"
   ]
  },
  {
   "cell_type": "code",
   "execution_count": 3,
   "metadata": {},
   "outputs": [
    {
     "name": "stdout",
     "output_type": "stream",
     "text": [
      "e\n",
      "t\n",
      "a\n",
      "o\n",
      "i\n",
      "n\n",
      "s\n",
      "r\n",
      "h\n",
      "d\n",
      "l\n",
      "u\n",
      "c\n",
      "m\n",
      "f\n",
      "y\n",
      "w\n",
      "g\n",
      "p\n",
      "b\n",
      "v\n",
      "k\n",
      "x\n",
      "q\n",
      "j\n"
     ]
    }
   ],
   "source": [
    "freq = [('e',12.02),('t',9.10),('a',8.12),('o',7.68),('i',7.31),('n',6.95),('s',6.28),('r',6.02),('h',5.92),('d',4.32),('l',3.98),('u',2.88),('c',2.71),('m',2.61),('f',2.30),('y',2.11),('w',2.09),('g',2.03),('p',1.82),('b',1.49),('v',1.11),('k',0.69),('x',0.17),('q',0.11),('j',0.10),('z',0.07)]\n",
    "for i in range (0,len(freq)-1):\n",
    "    print (freq[i][0])\n"
   ]
  },
  {
   "cell_type": "code",
   "execution_count": null,
   "metadata": {},
   "outputs": [],
   "source": []
  },
  {
   "cell_type": "code",
   "execution_count": 7,
   "metadata": {},
   "outputs": [
    {
     "name": "stdout",
     "output_type": "stream",
     "text": [
      "['i', 'n', 'd', 'i', 'a', ' ', 'i', 's', ' ', 'a', ' ', 'l', 'a', 'n', 'd', ' ', 'o', 'f', ' ', 'a', 'n', 'c', 'i', 'e', 'n', 'j', ' ', 'c', 'i', 'v', 'i', 'l', 'i', 'z', 'a', 'j', 'i', 'o', 'n', '.', ' ', 'i', 'n', 'd', 'i', 'a', \"'\", 's', ' ', 's', 'o', 'c', 'i', 'a', 'l', ',', ' ', 'e', 'c', 'o', 'n', 'o', 'm', 'i', 'c', ',', ' ', 'a', 'n', 'd', ' ', 'c', 'u', 'l', 'j', 'u', 'r', 'a', 'l', ' ', 'c', 'o', 'n', 'f', 'i', 'g', 'u', 'r', 'a', 'j', 'i', 'o', 'n', 's', ' ', 'a', 'r', 'e', ' ', 'j', 'h', 'e', ' ', 'p', 'r', 'o', 'd', 'u', 'c', 'j', 's', ' ', 'o', 'f', ' ', 'a', ' ', 'l', 'o', 'n', 'g', ' ', 'p', 'r', 'o', 'c', 'e', 's', 's', ' ', 'o', 'f', ' ', 'r', 'e', 'g', 'i', 'o', 'n', 'a', 'l', ' ', 'e', 'x', 'p', 'a', 'n', 's', 'i', 'o', 'n', '.', ' ', 'i', 'n', 'd', 'i', 'a', 'n', ' ', 'h', 'i', 's', 'j', 'o', 'r', 'y', ' ', 'b', 'e', 'g', 'i', 'n', 's', ' ', 'w', 'i', 'j', 'h', ' ', 'j', 'h', 'e', ' ', 'b', 'i', 'r', 'j', 'h', ' ', 'o', 'f', ' ', 'j', 'h', 'e', ' ', 'i', 'n', 'd', 'u', 's', ' ', 'v', 'a', 'l', 'l', 'e', 'y', ' ', 'c', 'i', 'v', 'i', 'l', 'i', 'z', 'a', 'j', 'i', 'o', 'n', ' ', 'a', 'n', 'd', ' ', 'j', 'h', 'e', ' ', 'c', 'o', 'm', 'i', 'n', 'g', ' ', 'o', 'f', ' ', 'j', 'h', 'e', ' ', 'a', 'r', 'y', 'a', 'n', 's', '.', ' ', 'j', 'h', 'e', 's', 'e', ' ', 'j', 'w', 'o', ' ', 'p', 'h', 'a', 's', 'e', 's', ' ', 'a', 'r', 'e', ' ', 'u', 's', 'u', 'a', 'l', 'l', 'y', ' ', 'd', 'e', 's', 'c', 'r', 'i', 'b', 'e', 'd', ' ', 'a', 's', ' ', 'j', 'h', 'e', ' ', 'p', 'r', 'e', '-', 'v', 'e', 'd', 'i', 'c', ' ', 'a', 'n', 'd', ' ', 'v', 'e', 'd', 'i', 'c', ' ', 'a', 'g', 'e', '.', ' ', 'h', 'i', 'n', 'd', 'u', 'i', 's', 'm', ' ', 'a', 'r', 'o', 's', 'e', ' ', 'i', 'n', ' ', 'j', 'h', 'e', ' ', 'v', 'e', 'd', 'i', 'c', ' ', 'p', 'e', 'r', 'i', 'o', 'd', '.', ' ', 'j', 'h', 'e', ' ', 'f', 'i', 'f', 'j', 'h', ' ', 'c', 'e', 'n', 'j', 'u', 'r', 'y', ' ', 's', 'a', 'w', ' ', 'j', 'h', 'e', ' ', 'u', 'n', 'i', 'f', 'i', 'c', 'a', 'j', 'i', 'o', 'n', ' ', 'o', 'f', ' ', 'i', 'n', 'd', 'i', 'a', ' ', 'u', 'n', 'd', 'e', 'r', ' ', 'a', 's', 'h', 'o', 'k', 'a', ',', ' ', 'w', 'h', 'o', ' ', 'h', 'a', 'd', ' ', 'c', 'o', 'n', 'v', 'e', 'r', 'j', 'e', 'd', ' ', 'j', 'o', ' ', 'b', 'u', 'd', 'd', 'h', 'i', 's', 'm', ',', ' ', 'a', 'n', 'd', ' ', 'i', 'j', ' ', 'i', 's', ' ', 'i', 'n', ' ', 'h', 'i', 's', ' ', 'r', 'e', 'i', 'g', 'n', ' ', 'j', 'h', 'a', 'j', ' ', 'b', 'u', 'd', 'd', 'h', 'i', 's', 'm', ' ', 's', 'p', 'r', 'e', 'a', 'd', ' ', 'i', 'n', ' ', 'm', 'a', 'n', 'y', ' ', 'p', 'a', 'r', 'j', 's', ' ', 'o', 'f', ' ', 'a', 's', 'i', 'a', '.', ' ', 'i', 'n', ' ', 'j', 'h', 'e', ' ', 'e', 'i', 'g', 'h', 'j', 'h', ' ', 'c', 'e', 'n', 'j', 'u', 'r', 'y', ' ', 'i', 's', 'l', 'a', 'm', ' ', 'c', 'a', 'm', 'e', ' ', 'j', 'o', ' ', 'i', 'n', 'd', 'i', 'a', ' ', 'f', 'o', 'r', ' ', 'j', 'h', 'e', ' ', 'f', 'i', 'r', 's', 'j', ' ', 'j', 'i', 'm', 'e', ' ', 'a', 'n', 'd', ' ', 'b', 'y', ' ', 'j', 'h', 'e', ' ', 'e', 'l', 'e', 'v', 'e', 'n', 'j', 'h', ' ', 'c', 'e', 'n', 'j', 'u', 'r', 'y', ' ', 'h', 'a', 'd', ' ', 'f', 'i', 'r', 'm', 'l', 'y', ' ', 'e', 's', 'j', 'a', 'b', 'l', 'i', 's', 'h', 'e', 'd', ' ', 'i', 'j', 's', 'e', 'l', 'f', ' ', 'i', 'n', ' ', 'i', 'n', 'd', 'i', 'a', ' ', 'a', 's', ' ', 'a', ' ', 'p', 'o', 'l', 'i', 'j', 'i', 'c', 'a', 'l', ' ', 'f', 'o', 'r', 'c', 'e', '.', ' ', 'i', 'j', ' ', 'r', 'e', 's', 'u', 'l', 'j', 'e', 'd', ' ', 'i', 'n', 'j', 'o', ' ', 'j', 'h', 'e', ' ', 'f', 'o', 'r', 'm', 'a', 'j', 'i', 'o', 'n', ' ', 'o', 'f', ' ', 'j', 'h', 'e', ' ', 'd', 'e', 'l', 'h', 'i', ' ', 's', 'u', 'l', 'j', 'a', 'n', 'a', 'j', 'e', ',', ' ', 'w', 'h', 'i', 'c', 'h', ' ', 'w', 'a', 's', ' ', 'f', 'i', 'n', 'a', 'l', 'l', 'y', ' ', 's', 'u', 'c', 'c', 'e', 'e', 'd', 'e', 'd', ' ', 'b', 'y', ' ', 'j', 'h', 'e', ' ', 'm', 'u', 'g', 'h', 'a', 'l', ' ', 'e', 'm', 'p', 'i', 'r', 'e', ',', ' ', 'u', 'n', 'd', 'e', 'r', ' ', 'w', 'h', 'i', 'c', 'h', ' ', 'i', 'n', 'd', 'i', 'a', ' ', 'o', 'n', 'c', 'e', ' ', 'a', 'g', 'a', 'i', 'n', ' ', 'a', 'c', 'h', 'i', 'e', 'v', 'e', 'd', ' ', 'a', ' ', 'l', 'a', 'r', 'g', 'e', ' ', 'm', 'e', 'a', 's', 'u', 'r', 'e', ' ', 'o', 'f', ' ', 'p', 'o', 'l', 'i', 'j', 'i', 'c', 'a', 'l', ' ', 'u', 'n', 'i', 'j', 'y', '.', ' ', 'i', 'j', ' ', 'w', 'a', 's', ' ', 'i', 'n', ' ', 'j', 'h', 'e', ' ', '1', '7', 'j', 'h', ' ', 'c', 'e', 'n', 'j', 'u', 'r', 'y', ' ', 'j', 'h', 'a', 'j', ' ', 'j', 'h', 'e', ' ', 'e', 'u', 'r', 'o', 'p', 'e', 'a', 'n', 's', ' ', 'c', 'a', 'm', 'e', ' ', 'j', 'o', ' ', 'i', 'n', 'd', 'i', 'a', '.', ' ', 'j', 'h', 'i', 's', ' ', 'c', 'o', 'i', 'n', 'c', 'i', 'd', 'e', 'd', ' ', 'w', 'i', 'j', 'h', ' ', 'j', 'h', 'e', ' ', 'd', 'i', 's', 'i', 'n', 'j', 'e', 'g', 'r', 'a', 'j', 'i', 'o', 'n', ' ', 'o', 'f', ' ', 'j', 'h', 'e', ' ', 'm', 'u', 'g', 'h', 'a', 'l', ' ', 'e', 'm', 'p', 'i', 'r', 'e', ',', ' ', 'p', 'a', 'v', 'i', 'n', 'g', ' ', 'j', 'h', 'e', ' ', 'w', 'a', 'y', ' ', 'f', 'o', 'r', ' ', 'r', 'e', 'g', 'i', 'o', 'n', 'a', 'l', ' ', 's', 'j', 'a', 'j', 'e', 's', '.', ' ', 'i', 'n', ' ', 'j', 'h', 'e', ' ', 'c', 'o', 'n', 'j', 'e', 's', 'j', ' ', 'f', 'o', 'r', ' ', 's', 'u', 'p', 'r', 'e', 'm', 'a', 'c', 'y', ',', ' ', 'j', 'h', 'e', ' ', 'e', 'n', 'g', 'l', 'i', 's', 'h', ' ', 'e', 'm', 'e', 'r', 'g', 'e', 'd', ' ', \"'\", 'v', 'i', 'c', 'j', 'o', 'r', 's', \"'\", '.', ' ', 'j', 'h', 'e', ' ', 'r', 'e', 'b', 'e', 'l', 'l', 'i', 'o', 'n', ' ', 'o', 'f', ' ', '1', '8', '5', '7', '-', '5', '8', ',', ' ', 'w', 'h', 'i', 'c', 'h', ' ', 's', 'o', 'u', 'g', 'h', 'j', ' ', 'j', 'o', ' ', 'r', 'e', 's', 'j', 'o', 'r', 'e', ' ', 'i', 'n', 'd', 'i', 'a', 'n', ' ', 's', 'u', 'p', 'r', 'e', 'm', 'a', 'c', 'y', ',', ' ', 'w', 'a', 's', ' ', 'c', 'r', 'u', 's', 'h', 'e', 'd', ';', ' ', 'a', 'n', 'd', ' ', 'w', 'i', 'j', 'h', ' ', 'j', 'h', 'e', ' ', 's', 'u', 'b', 's', 'e', 'q', 'u', 'e', 'n', 'j', ' ', 'c', 'r', 'o', 'w', 'n', 'i', 'n', 'g', ' ', 'o', 'f', ' ', 'v', 'i', 'c', 'j', 'o', 'r', 'i', 'a', ' ', 'a', 's', ' ', 'e', 'm', 'p', 'r', 'e', 's', 's', ' ', 'o', 'f', ' ', 'i', 'n', 'd', 'i', 'a', ',', ' ', 'j', 'h', 'e', ' ', 'i', 'n', 'c', 'o', 'r', 'p', 'o', 'r', 'a', 'j', 'i', 'o', 'n', ' ', 'o', 'f', ' ', 'i', 'n', 'd', 'i', 'a', ' ', 'i', 'n', 'j', 'o', ' ', 'j', 'h', 'e', ' ', 'e', 'm', 'p', 'i', 'r', 'e', ' ', 'w', 'a', 's', ' ', 'c', 'o', 'm', 'p', 'l', 'e', 'j', 'e', '.', ' ', 'i', 'j', ' ', 'w', 'a', 's', ' ', 'f', 'o', 'l', 'l', 'o', 'w', 'e', 'd', ' ', 'b', 'y', ' ', 'i', 'n', 'd', 'i', 'a', \"'\", 's', ' ', 's', 'j', 'r', 'u', 'g', 'g', 'l', 'e', ' ', 'f', 'o', 'r', ' ', 'i', 'n', 'd', 'e', 'p', 'e', 'n', 'd', 'e', 'n', 'c', 'e', ',', ' ', 'w', 'h', 'i', 'c', 'h', ' ', 'w', 'e', ' ', 'g', 'o', 'j', ' ', 'i', 'n', ' ', 'j', 'h', 'e', ' ', 'y', 'e', 'a', 'r', ' ', '1', '9', '4', '7', '.', 'i', 'n', 'd', 'i', 'a', ' ', 'j', 'i', 'm', 'e', 'l', 'i', 'n', 'e', ' ', 'i', 'n', 'd', 'i', 'a', 'n', ' ', 'j', 'i', 'm', 'e', 'l', 'i', 'n', 'e', ' ', 'j', 'a', 'k', 'e', 's', ' ', 'u', 's', ' ', 'o', 'n', ' ', 'a', ' ', 'j', 'o', 'u', 'r', 'n', 'e', 'y', ' ', 'o', 'f', ' ', 'j', 'h', 'e', ' ', 'h', 'i', 's', 'j', 'o', 'r', 'y', ' ', 'o', 'f', ' ', 'j', 'h', 'e', ' ', 's', 'u', 'b', 'c', 'o', 'n', 'j', 'i', 'n', 'e', 'n', 'j', '.', ' ', 'r', 'i', 'g', 'h', 'j', ' ', 'f', 'r', 'o', 'm', ' ', 'j', 'h', 'e', ' ', 'a', 'n', 'c', 'i', 'e', 'n', 'j', ' ', 'i', 'n', 'd', 'i', 'a', ',', ' ', 'w', 'h', 'i', 'c', 'h', ' ', 'i', 'n', 'c', 'l', 'u', 'd', 'e', 'd', ' ', 'b', 'a', 'n', 'g', 'l', 'a', 'd', 'e', 's', 'h', ' ', 'a', 'n', 'd', ' ', 'p', 'a', 'k', 'i', 's', 'j', 'a', 'n', ',', ' ', 'j', 'o', ' ', 'j', 'h', 'e', ' ', 'f', 'r', 'e', 'e', ' ', 'a', 'n', 'd', ' ', 'd', 'i', 'v', 'i', 'd', 'e', 'd', ' ', 'i', 'n', 'd', 'i', 'a', ',', ' ', 'j', 'h', 'i', 's', ' ', 'j', 'i', 'm', 'e', ' ', 'l', 'i', 'n', 'e', ' ', 'c', 'o', 'v', 'e', 'r', 's', ' ', 'e', 'a', 'c', 'h', ' ', 'a', 'n', 'd', ' ', 'e', 'v', 'e', 'r', 'y', ' ', 'a', 's', 'p', 'e', 'c', 'j', ' ', 'r', 'e', 'l', 'a', 'j', 'e', 'd', ' ', 'j', 'o', ' ', 'j', 'h', 'e', ' ', 'p', 'a', 's', 'j', ' ', 'a', 's', ' ', 'w', 'e', 'l', 'l', ' ', 'a', 's', ' ', 'p', 'r', 'e', 's', 'e', 'n', 'j', ' ', 'o', 'f', ' ', 'j', 'h', 'e', ' ', 'c', 'o', 'u', 'n', 'j', 'r', 'y', '.', ' ', 'r', 'e', 'a', 'd', ' ', 'o', 'n', ' ', 'f', 'u', 'r', 'j', 'h', 'e', 'r', ' ', 'j', 'o', ' ', 'e', 'x', 'p', 'l', 'o', 'r', 'e', ' ', 'j', 'h', 'e', ' ', 'j', 'i', 'm', 'e', 'l', 'i', 'n', 'e', ' ', 'o', 'f', ' ', 'i', 'n', 'd', 'i', 'a', '.', ' ', 'e', 'c', 'o', 'n', 'o', 'm', 'i', 'c', ' ', 'h', 'i', 's', 'j', 'o', 'r', 'y', ' ', 'o', 'f', ' ', 'i', 'n', 'd', 'i', 'a', ' ', 'i', 'n', 'd', 'u', 's', ' ', 'v', 'a', 'l', 'l', 'e', 'y', ' ', 'c', 'i', 'v', 'i', 'l', 'i', 'z', 'a', 'j', 'i', 'o', 'n', ',', ' ', 'w', 'h', 'i', 'c', 'h', ' ', 'f', 'l', 'o', 'u', 'r', 'i', 's', 'h', 'e', 'd', ' ', 'b', 'e', 'j', 'w', 'e', 'e', 'n', ' ', '2', '8', '0', '0', ' ', 'b', 'c', ' ', 'a', 'n', 'd', ' ', '1', '8', '0', '0', ' ', 'b', 'c', ',', ' ', 'h', 'a', 'd', ' ', 'a', 'n', ' ', 'a', 'd', 'v', 'a', 'n', 'c', 'e', 'd', ' ', 'a', 'n', 'd', ' ', 'f', 'l', 'o', 'u', 'r', 'i', 's', 'h', 'i', 'n', 'g', ' ', 'e', 'c', 'o', 'n', 'o', 'm', 'i', 'c', ' ', 's', 'y', 's', 'j', 'e', 'm', '.', ' ', 'j', 'h', 'e', ' ', 'i', 'n', 'd', 'u', 's', ' ', 'v', 'a', 'l', 'l', 'e', 'y', ' ', 'p', 'e', 'o', 'p', 'l', 'e', ' ', 'p', 'r', 'a', 'c', 'j', 'i', 'c', 'e', 'd', ' ', 'a', 'g', 'r', 'i', 'c', 'u', 'l', 'j', 'u', 'r', 'e', ',', ' ', 'd', 'o', 'm', 'e', 's', 'j', 'i', 'c', 'a', 'j', 'e', 'd', ' ', 'a', 'n', 'i', 'm', 'a', 'l', 's', ',', ' ', 'm', 'a', 'd', 'e', ' ', 'j', 'o', 'o', 'l', 's', ' ', 'a', 'n', 'd', ' ', 'w', 'e', 'a', 'p', 'o', 'n', 's', ' ', 'f', 'r', 'o', 'm', ' ', 'c', 'o', 'p', 'p', 'e', 'r', ',', ' ', 'b', 'r', 'o', 'n', 'z', 'e', ' ', 'a', 'n', 'd', ' ', 'j', 'i', 'n', ' ', 'a', 'n', 'd', ' ', 'e', 'v', 'e', 'n', ' ', 'j', 'r', 'a', 'd', 'e', 'd', ' ', 'w', 'i', 'j', 'h', ' ', 's', 'o', 'm', 'e', ' ', 'm', 'i', 'd', 'd', 'l', 'e', ' ', 'e', 'a', 's', 'j', ' ', 'c', 'o', 'u', 'n', 'j', 'r', 'i', 'e', 's', '.']\n",
      "india is a land of ancienj civilizajion. india's social, economic, and culjural configurajions are jhe producjs of a long process of regional expansion. indian hisjory begins wijh jhe birjh of jhe indus valley civilizajion and jhe coming of jhe aryans. jhese jwo phases are usually described as jhe pre-vedic and vedic age. hinduism arose in jhe vedic period. jhe fifjh cenjury saw jhe unificajion of india under ashoka, who had converjed jo buddhism, and ij is in his reign jhaj buddhism spread in many parjs of asia. in jhe eighjh cenjury islam came jo india for jhe firsj jime and by jhe elevenjh cenjury had firmly esjablished ijself in india as a polijical force. ij resuljed injo jhe formajion of jhe delhi suljanaje, which was finally succeeded by jhe mughal empire, under which india once again achieved a large measure of polijical unijy. ij was in jhe 17jh cenjury jhaj jhe europeans came jo india. jhis coincided wijh jhe disinjegrajion of jhe mughal empire, paving jhe way for regional sjajes. in jhe conjesj for supremacy, jhe english emerged 'vicjors'. jhe rebellion of 1857-58, which soughj jo resjore indian supremacy, was crushed; and wijh jhe subsequenj crowning of vicjoria as empress of india, jhe incorporajion of india injo jhe empire was compleje. ij was followed by india's sjruggle for independence, which we goj in jhe year 1947.india jimeline indian jimeline jakes us on a journey of jhe hisjory of jhe subconjinenj. righj from jhe ancienj india, which included bangladesh and pakisjan, jo jhe free and divided india, jhis jime line covers each and every aspecj relajed jo jhe pasj as well as presenj of jhe counjry. read on furjher jo explore jhe jimeline of india. economic hisjory of india indus valley civilizajion, which flourished bejween 2800 bc and 1800 bc, had an advanced and flourishing economic sysjem. jhe indus valley people pracjiced agriculjure, domesjicajed animals, made jools and weapons from copper, bronze and jin and even jraded wijh some middle easj counjries.\n"
     ]
    }
   ],
   "source": [
    "j=0\n",
    "final_s =list(s)\n",
    "while (j<len(sorted_res)-1):\n",
    "    for i in range (len(s)-1):\n",
    "        if (sorted_res[j][0]==s[i]):\n",
    "            final_s[i]=freq[j][0]\n",
    "        else:\n",
    "            final_s[i]=s[i]\n",
    "    j+=1\n",
    "ss=\"\"\n",
    "for i in range (len(final_s)):\n",
    "    ss +=final_s[i]\n",
    "    \n",
    "print (ss)\n",
    "        "
   ]
  },
  {
   "cell_type": "code",
   "execution_count": null,
   "metadata": {},
   "outputs": [],
   "source": []
  },
  {
   "cell_type": "code",
   "execution_count": null,
   "metadata": {},
   "outputs": [],
   "source": []
  },
  {
   "cell_type": "code",
   "execution_count": null,
   "metadata": {},
   "outputs": [],
   "source": []
  }
 ],
 "metadata": {
  "kernelspec": {
   "display_name": "Python 3",
   "language": "python",
   "name": "python3"
  },
  "language_info": {
   "codemirror_mode": {
    "name": "ipython",
    "version": 3
   },
   "file_extension": ".py",
   "mimetype": "text/x-python",
   "name": "python",
   "nbconvert_exporter": "python",
   "pygments_lexer": "ipython3",
   "version": "3.6.6"
  }
 },
 "nbformat": 4,
 "nbformat_minor": 2
}
